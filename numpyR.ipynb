{
 "cells": [
  {
   "cell_type": "markdown",
   "id": "14758779",
   "metadata": {},
   "source": [
    "# Numpy"
   ]
  },
  {
   "cell_type": "markdown",
   "id": "571ba62a",
   "metadata": {},
   "source": [
    "It is a table of elements (usually numbers), all of the same type, indexed by a tuple of positive integers.\n",
    "In NumPy dimensions are called axes. The number of axes is rank.\n",
    "NumPy’s array class is called ndarray. It is also known by the alias array."
   ]
  },
  {
   "cell_type": "raw",
   "id": "3b745681",
   "metadata": {},
   "source": [
    "[[ 1, 2, 3],\n",
    " [ 4, 2, 5]]\n",
    "\n",
    "Here,\n",
    " rank = 2 (as it is 2-dimensional or it has 2 axes)\n",
    " first dimension(axis) length = 2, second dimension has length = 3\n",
    " overall shape can be expressed as: (2, 3)"
   ]
  },
  {
   "cell_type": "markdown",
   "id": "23c08bef",
   "metadata": {},
   "source": [
    "# 1.array creation"
   ]
  },
  {
   "cell_type": "code",
   "execution_count": 1,
   "id": "00d44887",
   "metadata": {},
   "outputs": [
    {
     "name": "stdout",
     "output_type": "stream",
     "text": [
      "Array is of type:  <class 'numpy.ndarray'>\n",
      "No. of dimensions:  2\n",
      "Shape of array:  (2, 3)\n",
      "Size of array:  6\n",
      "Array stores elements of type:  int32\n"
     ]
    }
   ],
   "source": [
    "import numpy as np\n",
    " \n",
    "# Creating array object\n",
    "arr = np.array( [[ 1, 2, 3],\n",
    "                 [ 4, 2, 5]] )\n",
    " \n",
    "# Printing type of arr object\n",
    "print(\"Array is of type: \", type(arr))\n",
    " \n",
    "# Printing array dimensions (axes)\n",
    "print(\"No. of dimensions: \", arr.ndim)\n",
    " \n",
    "# Printing shape of array\n",
    "print(\"Shape of array: \", arr.shape)\n",
    " \n",
    "# Printing size (total number of elements) of array\n",
    "print(\"Size of array: \", arr.size)\n",
    " \n",
    "# Printing type of elements in array\n",
    "print(\"Array stores elements of type: \", arr.dtype)"
   ]
  },
  {
   "cell_type": "code",
   "execution_count": 8,
   "id": "fd75d0a4",
   "metadata": {},
   "outputs": [
    {
     "name": "stdout",
     "output_type": "stream",
     "text": [
      "[[1. 2. 3.]\n",
      " [4. 5. 6.]]\n"
     ]
    }
   ],
   "source": [
    "a = np.array([[1,2,3],[4,5,6]], dtype='float') #Creating array from list with type float\n",
    "print (\"Array created using passed list:\\n\", a)"
   ]
  },
  {
   "cell_type": "code",
   "execution_count": 10,
   "id": "3aebf0bb",
   "metadata": {},
   "outputs": [
    {
     "name": "stdout",
     "output_type": "stream",
     "text": [
      "\n",
      "Array created using passed tuple:\n",
      " [1 3 2]\n"
     ]
    }
   ],
   "source": [
    "# Creating array from tuple\n",
    "b = np.array((1 , 3, 2))\n",
    "print (\"\\nArray created using passed tuple:\\n\", b)"
   ]
  },
  {
   "cell_type": "code",
   "execution_count": 11,
   "id": "589cbf5b",
   "metadata": {},
   "outputs": [
    {
     "name": "stdout",
     "output_type": "stream",
     "text": [
      "\n",
      "An array initialized with all zeros:\n",
      " [[0. 0. 0. 0.]\n",
      " [0. 0. 0. 0.]\n",
      " [0. 0. 0. 0.]]\n"
     ]
    }
   ],
   "source": [
    "# Creating a 3X4 array with all zeros\n",
    "c = np.zeros((3, 4))\n",
    "print (\"\\nAn array initialized with all zeros:\\n\", c)"
   ]
  },
  {
   "cell_type": "code",
   "execution_count": 12,
   "id": "c1d00833",
   "metadata": {},
   "outputs": [
    {
     "name": "stdout",
     "output_type": "stream",
     "text": [
      "\n",
      "An array initialized with all 6s.Array type is complex:\n",
      " [[6.+0.j 6.+0.j 6.+0.j]\n",
      " [6.+0.j 6.+0.j 6.+0.j]\n",
      " [6.+0.j 6.+0.j 6.+0.j]]\n"
     ]
    }
   ],
   "source": [
    "# Create a constant value array of complex type\n",
    "d = np.full((3, 3), 6, dtype = 'complex')\n",
    "print (\"\\nAn array initialized with all 6s.\"\n",
    "       \"Array type is complex:\\n\", d)"
   ]
  },
  {
   "cell_type": "code",
   "execution_count": 13,
   "id": "27061382",
   "metadata": {},
   "outputs": [
    {
     "name": "stdout",
     "output_type": "stream",
     "text": [
      "\n",
      "A random array:\n",
      " [[0.17445387 0.7140525 ]\n",
      " [0.34713819 0.35248694]]\n"
     ]
    }
   ],
   "source": [
    "# Create an array with random values\n",
    "e = np.random.random((2, 2))\n",
    "print (\"\\nA random array:\\n\", e)"
   ]
  },
  {
   "cell_type": "code",
   "execution_count": 14,
   "id": "639d7f36",
   "metadata": {},
   "outputs": [
    {
     "name": "stdout",
     "output_type": "stream",
     "text": [
      "\n",
      "A sequential array with steps of 5:\n",
      " [ 0  5 10 15 20 25]\n"
     ]
    }
   ],
   "source": [
    "# Create a sequence of integers\n",
    "# from 0 to 30 with steps of 5\n",
    "f = np.arange(0, 30, 5)\n",
    "print (\"\\nA sequential array with steps of 5:\\n\", f)"
   ]
  },
  {
   "cell_type": "code",
   "execution_count": 15,
   "id": "14fc46bd",
   "metadata": {},
   "outputs": [
    {
     "name": "stdout",
     "output_type": "stream",
     "text": [
      "\n",
      "A sequential array with 10 values between0 and 5:\n",
      " [0.         0.55555556 1.11111111 1.66666667 2.22222222 2.77777778\n",
      " 3.33333333 3.88888889 4.44444444 5.        ]\n"
     ]
    }
   ],
   "source": [
    "# Create a sequence of 10 values in range 0 to 5\n",
    "g = np.linspace(0, 5, 10)\n",
    "print (\"\\nA sequential array with 10 values between\"\n",
    "                                        \"0 and 5:\\n\", g)"
   ]
  },
  {
   "cell_type": "code",
   "execution_count": 18,
   "id": "5ff9eb26",
   "metadata": {},
   "outputs": [
    {
     "name": "stdout",
     "output_type": "stream",
     "text": [
      "\n",
      "Original array:\n",
      " [[1 2 3 4]\n",
      " [5 2 4 2]\n",
      " [1 2 0 1]]\n",
      "Reshaped array:\n",
      " [[[1 2 3]\n",
      "  [4 5 2]]\n",
      "\n",
      " [[4 2 1]\n",
      "  [2 0 1]]]\n"
     ]
    }
   ],
   "source": [
    "#Reshaping 3X4 array to 2X2X3 array\n",
    "arr = np.array([[1, 2, 3, 4],\n",
    "                [5, 2, 4, 2],\n",
    "                [1, 2, 0, 1]])\n",
    " \n",
    "newarr = arr.reshape(2, 2, 3)\n",
    " \n",
    "print (\"\\nOriginal array:\\n\", arr)\n",
    "print (\"Reshaped array:\\n\", newarr)"
   ]
  },
  {
   "cell_type": "code",
   "execution_count": 17,
   "id": "0001ebe5",
   "metadata": {},
   "outputs": [
    {
     "name": "stdout",
     "output_type": "stream",
     "text": [
      "\n",
      "Original array:\n",
      " [[1 2 3]\n",
      " [4 5 6]]\n",
      "Fattened array:\n",
      " [1 2 3 4 5 6]\n"
     ]
    }
   ],
   "source": [
    "# Flatten array\n",
    "arr = np.array([[1, 2, 3], [4, 5, 6]])\n",
    "flarr = arr.flatten()\n",
    " \n",
    "print (\"\\nOriginal array:\\n\", arr)\n",
    "print (\"Fattened array:\\n\", flarr)"
   ]
  },
  {
   "cell_type": "markdown",
   "id": "3876a8f2",
   "metadata": {},
   "source": [
    "# 2.array indexing"
   ]
  },
  {
   "cell_type": "markdown",
   "id": "ae224f61",
   "metadata": {},
   "source": [
    "For analysing and manipulating array object"
   ]
  },
  {
   "cell_type": "markdown",
   "id": "4940f846",
   "metadata": {},
   "source": [
    "   Slicing  ~  specify a slice for each dimension of the array.                               \n",
    "   Boolean Array Indexing ~  lists are passed for indexing for each dimension.\n",
    "   Integer Array Indexing ~  want to pick elements from array which satisfy some condition."
   ]
  },
  {
   "cell_type": "code",
   "execution_count": 19,
   "id": "b745e96b",
   "metadata": {},
   "outputs": [],
   "source": [
    "# An exemplar array\n",
    "arr = np.array([[-1, 2, 0, 4],\n",
    "                [4, -0.5, 6, 0],\n",
    "                [2.6, 0, 7, 8],\n",
    "                [3, -7, 4, 2.0]])"
   ]
  },
  {
   "cell_type": "code",
   "execution_count": 20,
   "id": "bca40b88",
   "metadata": {},
   "outputs": [
    {
     "name": "stdout",
     "output_type": "stream",
     "text": [
      "Array with first 2 rows and alternatecolumns(0 and 2):\n",
      " [[-1.  0.]\n",
      " [ 4.  6.]]\n"
     ]
    }
   ],
   "source": [
    "# Slicing array\n",
    "temp = arr[:2, ::2]\n",
    "print (\"Array with first 2 rows and alternate\"\n",
    "                    \"columns(0 and 2):\\n\", temp)"
   ]
  },
  {
   "cell_type": "code",
   "execution_count": 21,
   "id": "d573daf6",
   "metadata": {},
   "outputs": [
    {
     "name": "stdout",
     "output_type": "stream",
     "text": [
      "\n",
      "Elements at indices (0, 3), (1, 2), (2, 1),(3, 0):\n",
      " [4. 6. 0. 3.]\n"
     ]
    }
   ],
   "source": [
    "# Integer array indexing example\n",
    "temp = arr[[0, 1, 2, 3], [3, 2, 1, 0]]\n",
    "print (\"\\nElements at indices (0, 3), (1, 2), (2, 1),\"\n",
    "                                    \"(3, 0):\\n\", temp)"
   ]
  },
  {
   "cell_type": "code",
   "execution_count": 22,
   "id": "ee485ed5",
   "metadata": {},
   "outputs": [
    {
     "name": "stdout",
     "output_type": "stream",
     "text": [
      "\n",
      "Elements greater than 0:\n",
      " [2.  4.  4.  6.  2.6 7.  8.  3.  4.  2. ]\n"
     ]
    }
   ],
   "source": [
    "# boolean array indexing example\n",
    "cond = arr > 0 # cond is a boolean array\n",
    "temp = arr[cond]\n",
    "print (\"\\nElements greater than 0:\\n\", temp)"
   ]
  },
  {
   "cell_type": "markdown",
   "id": "f39cb953",
   "metadata": {},
   "source": [
    "# 3. Basic operations"
   ]
  },
  {
   "cell_type": "markdown",
   "id": "f84f27f1",
   "metadata": {},
   "source": [
    "Operations on single array: We can use overloaded arithmetic operators to do element-wise operation on array to create a new array. In case of +=, -=, *= operators, the existing array is modified."
   ]
  },
  {
   "cell_type": "code",
   "execution_count": 23,
   "id": "89d3dd1b",
   "metadata": {},
   "outputs": [
    {
     "name": "stdout",
     "output_type": "stream",
     "text": [
      "Adding 1 to every element: [2 3 6 4]\n",
      "Subtracting 3 from each element: [-2 -1  2  0]\n",
      "Multiplying each element by 10: [10 20 50 30]\n",
      "Squaring each element: [ 1  4 25  9]\n",
      "Doubled each element of original array: [ 2  4 10  6]\n",
      "\n",
      "Original array:\n",
      " [[1 2 3]\n",
      " [3 4 5]\n",
      " [9 6 0]]\n",
      "Transpose of array:\n",
      " [[1 3 9]\n",
      " [2 4 6]\n",
      " [3 5 0]]\n"
     ]
    }
   ],
   "source": [
    "a = np.array([1, 2, 5, 3])\n",
    " \n",
    "# add 1 to every element\n",
    "print (\"Adding 1 to every element:\", a+1)\n",
    " \n",
    "# subtract 3 from each element\n",
    "print (\"Subtracting 3 from each element:\", a-3)\n",
    " \n",
    "# multiply each element by 10\n",
    "print (\"Multiplying each element by 10:\", a*10)\n",
    " \n",
    "# square each element\n",
    "print (\"Squaring each element:\", a**2)\n",
    " \n",
    "# modify existing array\n",
    "a *= 2\n",
    "print (\"Doubled each element of original array:\", a)\n",
    " \n",
    "# transpose of array\n",
    "a = np.array([[1, 2, 3], [3, 4, 5], [9, 6, 0]])\n",
    " \n",
    "print (\"\\nOriginal array:\\n\", a)\n",
    "print (\"Transpose of array:\\n\", a.T)"
   ]
  },
  {
   "cell_type": "markdown",
   "id": "6926fcd1",
   "metadata": {},
   "source": [
    "Unary operators: provid as a method of ndarray class. Includes sum, min, max, etc. These functions can also be applied row-wise or column-wise by setting an axis parameter."
   ]
  },
  {
   "cell_type": "code",
   "execution_count": 24,
   "id": "dd213a84",
   "metadata": {},
   "outputs": [
    {
     "name": "stdout",
     "output_type": "stream",
     "text": [
      "Largest element is: 9\n",
      "Row-wise maximum elements: [6 7 9]\n",
      "Column-wise minimum elements: [1 1 2]\n",
      "Sum of all array elements: 38\n",
      "Cumulative sum along each row:\n",
      " [[ 1  6 12]\n",
      " [ 4 11 13]\n",
      " [ 3  4 13]]\n"
     ]
    }
   ],
   "source": [
    "arr = np.array([[1, 5, 6],\n",
    "                [4, 7, 2],\n",
    "                [3, 1, 9]])\n",
    " \n",
    "# maximum element of array\n",
    "print (\"Largest element is:\", arr.max())\n",
    "print (\"Row-wise maximum elements:\",\n",
    "                    arr.max(axis = 1))\n",
    " \n",
    "# minimum element of array\n",
    "print (\"Column-wise minimum elements:\",\n",
    "                        arr.min(axis = 0))\n",
    " \n",
    "# sum of array elements\n",
    "print (\"Sum of all array elements:\",\n",
    "                            arr.sum())\n",
    " \n",
    "# cumulative sum along each row\n",
    "print (\"Cumulative sum along each row:\\n\",\n",
    "                        arr.cumsum(axis = 1))"
   ]
  },
  {
   "cell_type": "markdown",
   "id": "9c99c392",
   "metadata": {},
   "source": [
    "Binary operators: Use all basic arithmetic operators like +, -, /, , etc. \n",
    "In case of +=, -=, = operators, the existing array is modified."
   ]
  },
  {
   "cell_type": "code",
   "execution_count": 25,
   "id": "59204f8c",
   "metadata": {},
   "outputs": [
    {
     "name": "stdout",
     "output_type": "stream",
     "text": [
      "Array sum:\n",
      " [[5 5]\n",
      " [5 5]]\n",
      "Array multiplication:\n",
      " [[4 6]\n",
      " [6 4]]\n",
      "Matrix multiplication:\n",
      " [[ 8  5]\n",
      " [20 13]]\n"
     ]
    }
   ],
   "source": [
    "a = np.array([[1, 2],\n",
    "            [3, 4]])\n",
    "b = np.array([[4, 3],\n",
    "            [2, 1]])\n",
    " \n",
    "# add arrays\n",
    "print (\"Array sum:\\n\", a + b)\n",
    " \n",
    "# multiply arrays (elementwise multiplication)\n",
    "print (\"Array multiplication:\\n\", a*b)\n",
    " \n",
    "# matrix multiplication\n",
    "print (\"Matrix multiplication:\\n\", a.dot(b))"
   ]
  },
  {
   "cell_type": "markdown",
   "id": "47ca3945",
   "metadata": {},
   "source": [
    "Universal functions (ufunc): NumPy provides familiar mathematical functions such as sin, cos, exp, etc. These functions also operate elementwise on an array, producing an array as output.\n",
    "\n",
    "Note: Operations using overloaded operators can be done using ufuncs like np.add, np.subtract, np.multiply, np.divide, np.sum, etc"
   ]
  },
  {
   "cell_type": "code",
   "execution_count": 26,
   "id": "280b9a79",
   "metadata": {},
   "outputs": [
    {
     "name": "stdout",
     "output_type": "stream",
     "text": [
      "Sine values of array elements: [0.0000000e+00 1.0000000e+00 1.2246468e-16]\n",
      "Exponent of array elements: [ 1.          2.71828183  7.3890561  20.08553692]\n",
      "Square root of array elements: [0.         1.         1.41421356 1.73205081]\n"
     ]
    }
   ],
   "source": [
    "# create an array of sine values\n",
    "a = np.array([0, np.pi/2, np.pi])\n",
    "print (\"Sine values of array elements:\", np.sin(a))\n",
    " \n",
    "# exponential values\n",
    "a = np.array([0, 1, 2, 3])\n",
    "print (\"Exponent of array elements:\", np.exp(a))\n",
    " \n",
    "# square root of array values\n",
    "print (\"Square root of array elements:\", np.sqrt(a))"
   ]
  },
  {
   "cell_type": "markdown",
   "id": "98b3f474",
   "metadata": {},
   "source": [
    "# 4. Sorting array"
   ]
  },
  {
   "cell_type": "code",
   "execution_count": 27,
   "id": "f0e71488",
   "metadata": {},
   "outputs": [
    {
     "name": "stdout",
     "output_type": "stream",
     "text": [
      "Array elements in sorted order:\n",
      " [-1  0  1  2  3  4  4  5  6]\n",
      "Row-wise sorted array:\n",
      " [[ 1  2  4]\n",
      " [ 3  4  6]\n",
      " [-1  0  5]]\n",
      "Column wise sort by applying merge-sort:\n",
      " [[ 0 -1  2]\n",
      " [ 1  4  5]\n",
      " [ 3  4  6]]\n",
      "\n",
      "Array sorted by names:\n",
      " [(b'Aakash', 2009, 9. ) (b'Ajay', 2008, 8.7) (b'Hrithik', 2009, 8.5)\n",
      " (b'Pankaj', 2008, 7.9)]\n",
      "Array sorted by graduation year and then cgpa:\n",
      " [(b'Pankaj', 2008, 7.9) (b'Ajay', 2008, 8.7) (b'Hrithik', 2009, 8.5)\n",
      " (b'Aakash', 2009, 9. )]\n"
     ]
    }
   ],
   "source": [
    "a = np.array([[1, 4, 2],\n",
    "                 [3, 4, 6],\n",
    "              [0, -1, 5]])\n",
    " \n",
    "# sorted array\n",
    "print (\"Array elements in sorted order:\\n\",\n",
    "                    np.sort(a, axis = None))\n",
    " \n",
    "# sort array row-wise\n",
    "print (\"Row-wise sorted array:\\n\",\n",
    "                np.sort(a, axis = 1))\n",
    " \n",
    "# specify sort algorithm\n",
    "print (\"Column wise sort by applying merge-sort:\\n\",\n",
    "            np.sort(a, axis = 0, kind = 'mergesort'))\n",
    " \n",
    "# Example to show sorting of structured array\n",
    "# set alias names for dtypes\n",
    "dtypes = [('name', 'S10'), ('grad_year', int), ('cgpa', float)]\n",
    " \n",
    "# Values to be put in array\n",
    "values = [('Hrithik', 2009, 8.5), ('Ajay', 2008, 8.7),\n",
    "           ('Pankaj', 2008, 7.9), ('Aakash', 2009, 9.0)]\n",
    "            \n",
    "# Creating array\n",
    "arr = np.array(values, dtype = dtypes)\n",
    "print (\"\\nArray sorted by names:\\n\",\n",
    "            np.sort(arr, order = 'name'))\n",
    "             \n",
    "print (\"Array sorted by graduation year and then cgpa:\\n\",\n",
    "                np.sort(arr, order = ['grad_year', 'cgpa']))"
   ]
  },
  {
   "cell_type": "markdown",
   "id": "b64a6d56",
   "metadata": {},
   "source": [
    "### Initialize a NumPy array from a list."
   ]
  },
  {
   "cell_type": "code",
   "execution_count": 28,
   "id": "9a469b29",
   "metadata": {},
   "outputs": [
    {
     "name": "stdout",
     "output_type": "stream",
     "text": [
      "[1 2 3 4]\n"
     ]
    }
   ],
   "source": [
    "li = [1, 2, 3, 4]\n",
    "numpyArr = np.array(li)\n",
    "print(numpyArr)"
   ]
  },
  {
   "cell_type": "code",
   "execution_count": 29,
   "id": "662ff5c9",
   "metadata": {},
   "outputs": [
    {
     "name": "stdout",
     "output_type": "stream",
     "text": [
      "li = [1, 2, 3, 4] and type(li) = <class 'list'>\n",
      "numpyArr = [1 2 3 4] and type(numpyArr) = <class 'numpy.ndarray'>\n"
     ]
    }
   ],
   "source": [
    "print(\"li =\", li, \"and type(li) =\", type(li))\n",
    "print(\"numpyArr =\", numpyArr, \"and type(numpyArr) =\", type(numpyArr))"
   ]
  },
  {
   "cell_type": "markdown",
   "id": "6ace40c1",
   "metadata": {},
   "source": [
    "###  initialize NumPy array from a tuple\n",
    "Tuple is one of 4 built-in data types in Python used to store collections of data, the other 3 are List, Set, and Dictionary, all with different qualities and usage. A tuple is a collection which is ordered and unchangeable. Tuples are written with round brackets."
   ]
  },
  {
   "cell_type": "code",
   "execution_count": 30,
   "id": "3c03a79a",
   "metadata": {},
   "outputs": [
    {
     "name": "stdout",
     "output_type": "stream",
     "text": [
      "tup = (1, 2, 3, 4) and type(tup) = <class 'tuple'>\n",
      "numpyArr = [1 2 3 4] and type(numpyArr) = <class 'numpy.ndarray'>\n"
     ]
    }
   ],
   "source": [
    "tup = (1, 2, 3, 4)\n",
    "numpyArr = np.array(tup)\n",
    "  \n",
    "print(\"tup =\", tup, \"and type(tup) =\", type(tup))\n",
    "print(\"numpyArr =\", numpyArr, \"and type(numpyArr) =\", type(numpyArr))"
   ]
  },
  {
   "cell_type": "markdown",
   "id": "a674765a",
   "metadata": {},
   "source": [
    "## Multi dimentional array\n",
    "Type of array"
   ]
  },
  {
   "cell_type": "code",
   "execution_count": 31,
   "id": "1c4c29d8",
   "metadata": {},
   "outputs": [
    {
     "name": "stdout",
     "output_type": "stream",
     "text": [
      "Numpy multi dimensional array in python\n",
      " [[ 1  2  3  4]\n",
      " [ 5  6  7  8]\n",
      " [ 9 10 11 12]]\n"
     ]
    }
   ],
   "source": [
    "list_1 = [1, 2, 3, 4]\n",
    "list_2 = [5, 6, 7, 8]\n",
    "list_3 = [9, 10, 11, 12]\n",
    " \n",
    "# creating numpy array\n",
    "sample_array = np.array([list_1,\n",
    "                         list_2,\n",
    "                         list_3])\n",
    " \n",
    "print(\"Numpy multi dimensional array in python\\n\",\n",
    "      sample_array)"
   ]
  },
  {
   "cell_type": "markdown",
   "id": "52fbf072",
   "metadata": {},
   "source": [
    "Note: use [ ] operators inside numpy.array() for multi-dimensional"
   ]
  },
  {
   "cell_type": "markdown",
   "id": "406198d6",
   "metadata": {},
   "source": [
    "## Anatomy of an array :\n",
    "1. Axis: The Axis of an array describes the order of the indexing into the array.\n",
    "\n",
    "Axis 0 = one dimensional\n",
    "\n",
    "Axis 1 = Two dimensional\n",
    "\n",
    "Axis 2 = Three dimensional \n",
    "\n",
    "2. Shape: The number of elements along with each axis. It is from a tuple.\n",
    "3. Rank: The rank of an array is simply the number of axes (or dimensions) it has.\n",
    "4. Data type objects (dtype): Data type objects (dtype) is an instance of numpy.dtype class. It describes how the bytes in the fixed-size block of memory corresponding to an array item should be interpreted."
   ]
  },
  {
   "cell_type": "code",
   "execution_count": 32,
   "id": "a594ae7a",
   "metadata": {},
   "outputs": [
    {
     "name": "stdout",
     "output_type": "stream",
     "text": [
      "Data type of the array 1 : int32\n",
      "Data type of array 2 : float64\n"
     ]
    }
   ],
   "source": [
    "# Creating the array\n",
    "sample_array_1 = np.array([[0, 4, 2]])\n",
    " \n",
    "sample_array_2 = np.array([0.2, 0.4, 2.4])\n",
    " \n",
    "# display data type\n",
    "print(\"Data type of the array 1 :\",\n",
    "      sample_array_1.dtype)\n",
    " \n",
    "print(\"Data type of array 2 :\",\n",
    "      sample_array_2.dtype)"
   ]
  },
  {
   "cell_type": "markdown",
   "id": "974f2aa2",
   "metadata": {},
   "source": [
    "## Some different way of creating Numpy Array :\n",
    "\n",
    "\n",
    "1. numpy.array(): The Numpy array object in Numpy is called ndarray. We can create ndarray using numpy.array() function.\n",
    "\n",
    "Syntax: numpy.array(parameter)"
   ]
  },
  {
   "cell_type": "code",
   "execution_count": 33,
   "id": "e22e21f8",
   "metadata": {},
   "outputs": [
    {
     "name": "stdout",
     "output_type": "stream",
     "text": [
      "Array : [3 4 5 5]\n"
     ]
    }
   ],
   "source": [
    "arr = np.array([3,4,5,5])\n",
    " \n",
    "print(\"Array :\",arr)"
   ]
  },
  {
   "cell_type": "markdown",
   "id": "ad056592",
   "metadata": {},
   "source": [
    "2. numpy.fromiter(): The fromiter() function create a new one-dimensional array from an iterable object.\n",
    "\n",
    "Syntax: numpy.fromiter(iterable, dtype, count=-1)"
   ]
  },
  {
   "cell_type": "code",
   "execution_count": 36,
   "id": "9d701a83",
   "metadata": {},
   "outputs": [
    {
     "name": "stdout",
     "output_type": "stream",
     "text": [
      "fromiter() array : [ 0.  1.  4.  9. 16. 25. 36. 49.]\n",
      "fromiter() array : ['A' 'd' 'i' 't' 'i' '&' 'A' 'a' 's' 't' 'h' 'a']\n"
     ]
    }
   ],
   "source": [
    "# iterable\n",
    "iterable = (a*a for a in range(8))\n",
    " \n",
    "arr = np.fromiter(iterable, float)\n",
    " \n",
    "print(\"fromiter() array :\",arr)\n",
    "var = \"Aditi&Aastha\"\n",
    " \n",
    "arr = np.fromiter(var, dtype = 'U2')\n",
    " \n",
    "print(\"fromiter() array :\",\n",
    "      arr)"
   ]
  },
  {
   "cell_type": "markdown",
   "id": "4ea5a966",
   "metadata": {},
   "source": [
    "3. numpy.arange(): This is an inbuilt NumPy function that returns evenly spaced values within a given interval.\n",
    "\n",
    "Syntax: numpy.arange([start, ]stop, [step, ]dtype=None)"
   ]
  },
  {
   "cell_type": "code",
   "execution_count": 37,
   "id": "77e21dae",
   "metadata": {},
   "outputs": [
    {
     "data": {
      "text/plain": [
       "array([ 1.,  3.,  5.,  7.,  9., 11., 13., 15., 17., 19.], dtype=float32)"
      ]
     },
     "execution_count": 37,
     "metadata": {},
     "output_type": "execute_result"
    }
   ],
   "source": [
    "np.arange(1, 20 , 2,\n",
    "          dtype = np.float32)"
   ]
  },
  {
   "cell_type": "markdown",
   "id": "9df49cdd",
   "metadata": {},
   "source": [
    "4. numpy.linspace(): This function returns evenly spaced numbers over a specified between two limits. \n",
    "\n",
    "Syntax: numpy.linspace(start, stop, num=50, endpoint=True, retstep=False, dtype=None, axis=0)"
   ]
  },
  {
   "cell_type": "code",
   "execution_count": 38,
   "id": "7fc1623b",
   "metadata": {},
   "outputs": [
    {
     "data": {
      "text/plain": [
       "array([ 3.5 ,  6.75, 10.  ])"
      ]
     },
     "execution_count": 38,
     "metadata": {},
     "output_type": "execute_result"
    }
   ],
   "source": [
    "np.linspace(3.5, 10, 3)"
   ]
  },
  {
   "cell_type": "code",
   "execution_count": 39,
   "id": "42f161d9",
   "metadata": {},
   "outputs": [
    {
     "data": {
      "text/plain": [
       "array([ 3,  6, 10])"
      ]
     },
     "execution_count": 39,
     "metadata": {},
     "output_type": "execute_result"
    }
   ],
   "source": [
    "np.linspace(3.5, 10, 3,\n",
    "            dtype = np.int32)"
   ]
  },
  {
   "cell_type": "markdown",
   "id": "8907dbf5",
   "metadata": {},
   "source": [
    "5. numpy.empty(): This function create a new array of given shape and type, without initializing value.\n",
    "\n",
    "Syntax: numpy.empty(shape, dtype=float, order=’C’)"
   ]
  },
  {
   "cell_type": "code",
   "execution_count": 40,
   "id": "8e84200b",
   "metadata": {},
   "outputs": [
    {
     "data": {
      "text/plain": [
       "array([[1, 5, 1],\n",
       "       [2, 2, 2],\n",
       "       [3, 4, 0],\n",
       "       [4, 2, 1]])"
      ]
     },
     "execution_count": 40,
     "metadata": {},
     "output_type": "execute_result"
    }
   ],
   "source": [
    "np.empty([4, 3],\n",
    "         dtype = np.int32,\n",
    "         order = 'f')"
   ]
  },
  {
   "cell_type": "markdown",
   "id": "3326849a",
   "metadata": {},
   "source": [
    "6. numpy.ones(): This function is used to get a new array of given shape and type, filled with ones(1).\n",
    "\n",
    "Syntax: numpy.ones(shape, dtype=None, order=’C’)"
   ]
  },
  {
   "cell_type": "code",
   "execution_count": 41,
   "id": "6b073a60",
   "metadata": {},
   "outputs": [
    {
     "data": {
      "text/plain": [
       "array([[1, 1, 1],\n",
       "       [1, 1, 1],\n",
       "       [1, 1, 1],\n",
       "       [1, 1, 1]])"
      ]
     },
     "execution_count": 41,
     "metadata": {},
     "output_type": "execute_result"
    }
   ],
   "source": [
    "np.ones([4, 3],\n",
    "        dtype = np.int32,\n",
    "        order = 'f')"
   ]
  },
  {
   "cell_type": "markdown",
   "id": "b83e77ef",
   "metadata": {},
   "source": [
    "7. numpy.zeros(): This function is used to get a new array of given shape and type, filled with zeros(0). \n",
    "\n",
    "Syntax: numpy.ones(shape, dtype=None)"
   ]
  },
  {
   "cell_type": "code",
   "execution_count": 42,
   "id": "dcb1b8d9",
   "metadata": {},
   "outputs": [
    {
     "data": {
      "text/plain": [
       "array([[0, 0, 0],\n",
       "       [0, 0, 0],\n",
       "       [0, 0, 0],\n",
       "       [0, 0, 0]])"
      ]
     },
     "execution_count": 42,
     "metadata": {},
     "output_type": "execute_result"
    }
   ],
   "source": [
    "np.zeros([4, 3],\n",
    "         dtype = np.int32,\n",
    "         order = 'f')"
   ]
  },
  {
   "cell_type": "markdown",
   "id": "5c559d97",
   "metadata": {},
   "source": [
    "REMINDER: \"int32 is an integer between -2^31 and 2^31 - 1. This range requires 32 bits of memory, and hence the name. Numpy allows for a variety of data types that are not present in regular Python, whose int type can be really, really large. Moreover, unlike Python's list, all elements of a Numpy array must be of the same type.\""
   ]
  },
  {
   "cell_type": "markdown",
   "id": "3f42a798",
   "metadata": {},
   "source": [
    "# Comparison between Numpy array and Python List"
   ]
  },
  {
   "cell_type": "markdown",
   "id": "c847b1ef",
   "metadata": {},
   "source": [
    "### Memory consumption between Numpy array and lists \n",
    "In this example, a Python list and a Numpy array of size 1000 will be created. The size of each element and then the whole size of both containers will be calculated and a comparison will be done in terms of memory consumption. "
   ]
  },
  {
   "cell_type": "code",
   "execution_count": 43,
   "id": "48ac8dfa",
   "metadata": {},
   "outputs": [
    {
     "name": "stdout",
     "output_type": "stream",
     "text": [
      "Size of each element of list in bytes:  48\n",
      "Size of the whole list in bytes:  48000\n",
      "Size of each element of the Numpy array in bytes:  4\n",
      "Size of the whole Numpy array in bytes:  4000\n"
     ]
    }
   ],
   "source": [
    "# importing numpy package\n",
    "import numpy as np\n",
    "\n",
    "# importing system module\n",
    "import sys\n",
    "\n",
    "# declaring a list of 1000 elements\n",
    "S= range(1000)\n",
    "\n",
    "# printing size of each element of the list\n",
    "print(\"Size of each element of list in bytes: \",sys.getsizeof(S))\n",
    "\n",
    "# printing size of the whole list\n",
    "print(\"Size of the whole list in bytes: \",sys.getsizeof(S)*len(S))\n",
    "\n",
    "# declaring a Numpy array of 1000 elements\n",
    "D= np.arange(1000)\n",
    "\n",
    "# printing size of each element of the Numpy array\n",
    "print(\"Size of each element of the Numpy array in bytes: \",D.itemsize)\n",
    "\n",
    "# printing size of the whole Numpy array\n",
    "print(\"Size of the whole Numpy array in bytes: \",D.size*D.itemsize)\n"
   ]
  },
  {
   "cell_type": "markdown",
   "id": "1ca4bd95",
   "metadata": {},
   "source": [
    "### Time comparison between Numpy array and Python lists \n",
    "In this example, 2 Python lists and 2 Numpy arrays will be created and each container has 1000000 elements. Multiplication of elements in both the lists and Numpy arrays respectively will be carried out and the difference in time needed for the execution for both the containers will be analyzed to determine which one takes less time to perform the operation."
   ]
  },
  {
   "cell_type": "code",
   "execution_count": 44,
   "id": "167a4d74",
   "metadata": {},
   "outputs": [
    {
     "name": "stdout",
     "output_type": "stream",
     "text": [
      "Time taken by Lists to perform multiplication: 0.34104418754577637 seconds\n",
      "Time taken by NumPy Arrays to perform multiplication: 0.0 seconds\n"
     ]
    }
   ],
   "source": [
    "# importing required packages\n",
    "import numpy\n",
    "import time\n",
    "\n",
    "# size of arrays and lists\n",
    "size = 1000000\n",
    "\n",
    "# declaring lists\n",
    "list1 = range(size)\n",
    "list2 = range(size)\n",
    "\n",
    "# declaring arrays\n",
    "array1 = numpy.arange(size)\n",
    "array2 = numpy.arange(size)\n",
    "\n",
    "# capturing time before the multiplication of Python lists\n",
    "initialTime = time.time()\n",
    "\n",
    "# multiplying elements of both the lists and stored in another list\n",
    "resultantList = [(a * b) for a, b in zip(list1, list2)]\n",
    "\n",
    "# calculating execution time\n",
    "print(\"Time taken by Lists to perform multiplication:\",(time.time() - initialTime),\"seconds\")\n",
    "\n",
    "# capturing time before the multiplication of Numpy arrays\n",
    "initialTime = time.time()\n",
    "\n",
    "# multiplying elements of both the Numpy arrays and stored in another Numpy array\n",
    "resultantArray = array1 * array2\n",
    "\n",
    "# calculating execution time\n",
    "print(\"Time taken by NumPy Arrays to perform multiplication:\",\n",
    "    (time.time() - initialTime),\"seconds\")\n"
   ]
  },
  {
   "cell_type": "markdown",
   "id": "fa15a4e0",
   "metadata": {},
   "source": [
    "### Effect of operations on Numpy array and Python Lists \n",
    "In this example, the incapability of the Python list to carry out a basic operation is demonstrated. A Python list and a Numpy array having the same elements will be declared and an integer will be added to increment each element of the container by that integer value without looping statements. The effect of this operation on the Numpy array and Python list will be analyzed."
   ]
  },
  {
   "cell_type": "code",
   "execution_count": 45,
   "id": "afb945b6",
   "metadata": {},
   "outputs": [
    {
     "name": "stdout",
     "output_type": "stream",
     "text": [
      "Lists don't support list + int\n",
      "Modified Numpy array:  [5 6 7]\n"
     ]
    }
   ],
   "source": [
    "# importing Numpy package\n",
    "import numpy as np\n",
    "\n",
    "# declaring a list\n",
    "ls =[1, 2, 3]\n",
    "\n",
    "# converting the list into a Numpy array\n",
    "arr = np.array(ls)\n",
    "\n",
    "try:\n",
    "   # adding 4 to each element of list\n",
    "    ls = ls + 4\n",
    "\n",
    "except(TypeError):\n",
    "    print(\"Lists don't support list + int\")\n",
    "\n",
    "# now on array\n",
    "try:\n",
    "    # adding 4 to each element of Numpy array\n",
    "    arr = arr + 4\n",
    "\n",
    "    # printing the Numpy array\n",
    "    print(\"Modified Numpy array: \",arr)\n",
    "\n",
    "except(TypeError):\n",
    "    print(\"Numpy arrays don't support list + int\")\n",
    "import numpy as np\n",
    "  \n",
    "# declaring a list\n",
    "ls =[1, 2, 3]\n",
    "  \n",
    "# converting the list into a Numpy array\n",
    "arr = np.array(ls)\n",
    "  \n",
    "try:\n",
    "    # adding 4 to each element of list\n",
    "    ls = ls + 4\n",
    "      \n",
    "except(TypeError):\n",
    "    print(\"Lists don't support list + int\")\n",
    "  \n",
    "# now on array\n",
    "try:\n",
    "    # adding 4 to each element of Numpy array\n",
    "    arr = arr + 4\n",
    "  \n",
    "    # printing the Numpy array\n",
    "    print(\"Modified Numpy array: \",arr)\n",
    "      \n",
    "except(TypeError):\n",
    "    print(\"Numpy arrays don't support list + int\")"
   ]
  },
  {
   "cell_type": "markdown",
   "id": "80f585e9",
   "metadata": {},
   "source": [
    "##### Conclusion\n",
    "Advantages of using Numpy Arrays Over Python Lists:\n",
    "\n",
    "Consumes less memory.\n",
    "Fast as compared to the python List.\n",
    "Convenient to use.\n"
   ]
  },
  {
   "cell_type": "markdown",
   "id": "40c127ae",
   "metadata": {},
   "source": [
    "## How to generate 2-D Gaussian array using NumPy?"
   ]
  },
  {
   "cell_type": "code",
   "execution_count": null,
   "id": "0efb1787",
   "metadata": {},
   "outputs": [],
   "source": [
    " "
   ]
  },
  {
   "cell_type": "markdown",
   "id": "64594fd3",
   "metadata": {},
   "source": [
    "# Numpy Array Manipulation"
   ]
  },
  {
   "cell_type": "markdown",
   "id": "0825feca",
   "metadata": {},
   "source": [
    "## Copy & View"
   ]
  },
  {
   "cell_type": "markdown",
   "id": "9c04edcc",
   "metadata": {},
   "source": [
    "(No Copy by Assigning)"
   ]
  },
  {
   "cell_type": "code",
   "execution_count": 48,
   "id": "c34548b5",
   "metadata": {},
   "outputs": [
    {
     "name": "stdout",
     "output_type": "stream",
     "text": [
      "id of arr 2470076921296\n",
      "id of nc 2470076921296\n",
      "original array-  [12  4  6  8 10]\n",
      "assigned array-  [12  4  6  8 10]\n"
     ]
    }
   ],
   "source": [
    "# creating array\n",
    "arr = np.array([2, 4, 6, 8, 10])\n",
    "  \n",
    "# assigning arr to nc\n",
    "nc = arr\n",
    "  \n",
    "# both arr and nc have same id\n",
    "print(\"id of arr\", id(arr))\n",
    "print(\"id of nc\", id(nc))\n",
    "  \n",
    "# updating nc\n",
    "nc[0]= 12\n",
    "  \n",
    "# printing the values\n",
    "print(\"original array- \", arr)\n",
    "print(\"assigned array- \", nc)"
   ]
  },
  {
   "cell_type": "markdown",
   "id": "31710a34",
   "metadata": {},
   "source": [
    "View: This is also known as Shallow Copy. The view is just a view of the original array and view does not own the data. When we make changes to the view it affects the original array, and when changes are made to the original array it affects the view."
   ]
  },
  {
   "cell_type": "markdown",
   "id": "3482a92e",
   "metadata": {},
   "source": [
    "making a view and changing original array"
   ]
  },
  {
   "cell_type": "code",
   "execution_count": 49,
   "id": "a3e21846",
   "metadata": {},
   "outputs": [
    {
     "name": "stdout",
     "output_type": "stream",
     "text": [
      "id of arr 2470076921776\n",
      "id of v 2470076919952\n",
      "original array-  [12  4  6  8 10]\n",
      "view-  [12  4  6  8 10]\n"
     ]
    }
   ],
   "source": [
    "arr = np.array([2, 4, 6, 8, 10])\n",
    "  \n",
    "# creating view \n",
    "v = arr.view()\n",
    "  \n",
    "# both arr and v have different id\n",
    "print(\"id of arr\", id(arr))\n",
    "print(\"id of v\", id(v))\n",
    "  \n",
    "# changing original array\n",
    "# will effect view\n",
    "arr[0] = 12\n",
    "  \n",
    "# printing array and view\n",
    "print(\"original array- \", arr)\n",
    "print(\"view- \", v)"
   ]
  },
  {
   "cell_type": "markdown",
   "id": "ba8f027b",
   "metadata": {},
   "source": [
    "Copy: This is also known as Deep Copy. The copy is completely a new array and copy owns the data. When we make changes to the copy it does not affect the original array, and when changes are made to the original array it does not affect the copy.\n",
    "\n",
    "Example: (making a copy and changing original array)"
   ]
  },
  {
   "cell_type": "code",
   "execution_count": 50,
   "id": "5939b758",
   "metadata": {},
   "outputs": [
    {
     "name": "stdout",
     "output_type": "stream",
     "text": [
      "id of arr 2470076922544\n",
      "id of c 2470076920240\n",
      "original array-  [12  4  6  8 10]\n",
      "copy-  [ 2  4  6  8 10]\n"
     ]
    }
   ],
   "source": [
    "# creating array\n",
    "arr = np.array([2, 4, 6, 8, 10])\n",
    "  \n",
    "# creating copy of array\n",
    "c = arr.copy()\n",
    "  \n",
    "# both arr and c have different id\n",
    "print(\"id of arr\", id(arr))\n",
    "print(\"id of c\", id(c))\n",
    "  \n",
    "# changing original array\n",
    "# this will not effect copy\n",
    "arr[0] = 12\n",
    "  \n",
    "# printing array and copy\n",
    "print(\"original array- \", arr)\n",
    "print(\"copy- \", c)"
   ]
  },
  {
   "cell_type": "markdown",
   "id": "8734dc90",
   "metadata": {},
   "source": [
    "Array Owning it’s Data:\n",
    "To check whether array own it’s data in view and copy we can use the fact that every NumPy array has the attribute base that returns None if the array owns the data. Else, the base attribute refers to the original object."
   ]
  },
  {
   "cell_type": "code",
   "execution_count": 51,
   "id": "ad5e4683",
   "metadata": {},
   "outputs": [
    {
     "name": "stdout",
     "output_type": "stream",
     "text": [
      "None\n",
      "[ 2  4  6  8 10]\n"
     ]
    }
   ],
   "source": [
    "# creating array\n",
    "arr = np.array([2, 4, 6, 8, 10])\n",
    "  \n",
    "# creating copy of array\n",
    "c = arr.copy()\n",
    "  \n",
    "# creating view of array\n",
    "v = arr.view()\n",
    "  \n",
    "# printing base attribute of copy and view\n",
    "print(c.base)\n",
    "print(v.base)"
   ]
  },
  {
   "cell_type": "markdown",
   "id": "b8942420",
   "metadata": {},
   "source": [
    "### Appending values at the end of an NumPy array"
   ]
  },
  {
   "cell_type": "markdown",
   "id": "f2be5243",
   "metadata": {},
   "source": [
    "1.Appending a single value to a 1D array.\n",
    "2.Appending another array at the end of a 1D array\n",
    "3.Appending values at the end of the n-dimensional array\n",
    "  - Lets take example of last one"
   ]
  },
  {
   "cell_type": "code",
   "execution_count": 52,
   "id": "f2e659c3",
   "metadata": {},
   "outputs": [
    {
     "name": "stdout",
     "output_type": "stream",
     "text": [
      "Original Array\n",
      "[[ 1  2  3  4  5  6]\n",
      " [ 7  8  9 10 11 12]] \n",
      "\n",
      "Array to be appended column wise\n",
      "[[ 5  6  7  8  9 10]]\n",
      "Array after appending the values column wise\n",
      "[[ 1  2  3  4  5  6]\n",
      " [ 7  8  9 10 11 12]\n",
      " [ 5  6  7  8  9 10]] \n",
      "\n",
      "Array to be appended row wise\n",
      "[[1]\n",
      " [2]]\n",
      "Array after appending the values row wise\n",
      "[[ 1  2  3  4  5  6  1]\n",
      " [ 7  8  9 10 11 12  2]]\n"
     ]
    }
   ],
   "source": [
    "# create an array\n",
    "arr = np.arange(1, 13).reshape(2, 6)\n",
    "print('Original Array')\n",
    "print(arr, '\\n')\n",
    " \n",
    "# create another array which is\n",
    "# to be appended column-wise\n",
    "col = np.arange(5, 11).reshape(1, 6)\n",
    "print('Array to be appended column wise')\n",
    "print(col)\n",
    "arr_col = np.append(arr, col, axis=0)\n",
    "print('Array after appending the values column wise')\n",
    "print(arr_col, '\\n')\n",
    " \n",
    "# create an array which is\n",
    "# to be appended row wise\n",
    "row = np.array([1, 2]).reshape(2, 1)\n",
    "print('Array to be appended row wise')\n",
    "print(row)\n",
    "arr_row = np.append(arr, row, axis=1)\n",
    "print('Array after appending the values row wise')\n",
    "print(arr_row)"
   ]
  },
  {
   "cell_type": "markdown",
   "id": "2a6e2de7",
   "metadata": {},
   "source": [
    "### How to swap columns of a given NumPy array?"
   ]
  },
  {
   "cell_type": "markdown",
   "id": "73927640",
   "metadata": {},
   "source": [
    "Approach :\n",
    "\n",
    "Import NumPy module\n",
    "Create a NumPy array\n",
    "Swap the column with Index\n",
    "Print the Final array"
   ]
  },
  {
   "cell_type": "markdown",
   "id": "82794d08",
   "metadata": {},
   "source": [
    "Swapping the column of an array. "
   ]
  },
  {
   "cell_type": "code",
   "execution_count": 53,
   "id": "898f0d5e",
   "metadata": {},
   "outputs": [
    {
     "name": "stdout",
     "output_type": "stream",
     "text": [
      "Original array:\n",
      "[[ 0  1  2]\n",
      " [ 3  4  5]\n",
      " [ 6  7  8]\n",
      " [ 9 10 11]]\n",
      "After swapping arrays the last column and first column:\n",
      "[[ 2  1  0]\n",
      " [ 5  4  3]\n",
      " [ 8  7  6]\n",
      " [11 10  9]]\n"
     ]
    }
   ],
   "source": [
    "# creating array with shape(4,3)\n",
    "my_array = np.arange(12).reshape(4, 3)\n",
    "print(\"Original array:\")\n",
    "print(my_array)\n",
    " \n",
    "# swapping the column with index of\n",
    "# original array\n",
    "my_array[:, [2, 0]] = my_array[:, [0, 2]]\n",
    "print(\"After swapping arrays the last column and first column:\")\n",
    "print(my_array)"
   ]
  },
  {
   "cell_type": "markdown",
   "id": "6de93869",
   "metadata": {},
   "source": [
    "Example 2: Swapping the column of an array with the user chooses."
   ]
  },
  {
   "cell_type": "code",
   "execution_count": 54,
   "id": "222e950c",
   "metadata": {},
   "outputs": [
    {
     "name": "stdout",
     "output_type": "stream",
     "text": [
      "Original Array : \n",
      "[[ 0  1  2]\n",
      " [ 3  4  5]\n",
      " [ 6  7  8]\n",
      " [ 9 10 11]]\n",
      " After Swapping :\n",
      "[[ 1  0  2]\n",
      " [ 4  3  5]\n",
      " [ 7  6  8]\n",
      " [10  9 11]]\n"
     ]
    }
   ],
   "source": [
    "# Creating array\n",
    "my_array = np.arange(12).reshape(4, 3)\n",
    "print(\"Original Array : \")\n",
    "print(my_array)\n",
    "# creating function for swap\n",
    " \n",
    "def Swap(arr, start_index, last_index):\n",
    "    arr[:, [start_index, last_index]] = arr[:, [last_index, start_index]]\n",
    " \n",
    "# passing parameter into the function\n",
    "Swap(my_array, 0, 1)\n",
    "print(\" After Swapping :\")\n",
    "print(my_array)"
   ]
  },
  {
   "cell_type": "markdown",
   "id": "4f239166",
   "metadata": {},
   "source": [
    "## Insert a new axis within a NumPy array"
   ]
  },
  {
   "cell_type": "markdown",
   "id": "d03aa279",
   "metadata": {},
   "source": [
    "Method 1: Using numpy.newaxis()\n",
    "The first method is to use numpy.newaxis object. This object is equivalent to use None as a parameter while declaring the array. The trick is to use the numpy.newaxis object as a parameter at the index location in which you want to add the new axis.\n",
    "Example: "
   ]
  },
  {
   "cell_type": "code",
   "execution_count": 55,
   "id": "a913b784",
   "metadata": {},
   "outputs": [
    {
     "name": "stdout",
     "output_type": "stream",
     "text": [
      "(5, 5)\n",
      "(1, 5, 5, 1, 1)\n"
     ]
    }
   ],
   "source": [
    "arr = np.arange(5*5).reshape(5, 5)\n",
    "print(arr.shape)\n",
    "  \n",
    "# promoting 2D array to a 5D array\n",
    "# arr[None, ..., None, None]\n",
    "arr_5D = arr[np.newaxis, ..., np.newaxis, np.newaxis]\n",
    "  \n",
    "print(arr_5D.shape)"
   ]
  },
  {
   "cell_type": "markdown",
   "id": "2a82d194",
   "metadata": {},
   "source": [
    "Method 2: Using numpy.expand_dims()\n",
    "\n",
    "The second method is to use numpy.expand_dims() function that has an intuitive axis kwarg. This function takes two parameters. The first is the array of which you want to increase the dimension of and the second is index/indexes of array on which you want to create a new axis."
   ]
  },
  {
   "cell_type": "code",
   "execution_count": 56,
   "id": "cd372607",
   "metadata": {},
   "outputs": [
    {
     "name": "stdout",
     "output_type": "stream",
     "text": [
      "(3, 1, 4)\n"
     ]
    }
   ],
   "source": [
    "x = np.zeros((3, 4))\n",
    "y = np.expand_dims(x, axis=1).shape\n",
    "print(y)"
   ]
  },
  {
   "cell_type": "markdown",
   "id": "0e527d34",
   "metadata": {},
   "source": [
    "Example 2: Simultaneously insert many new axes in the array."
   ]
  },
  {
   "cell_type": "code",
   "execution_count": 57,
   "id": "4ec192fc",
   "metadata": {},
   "outputs": [
    {
     "name": "stdout",
     "output_type": "stream",
     "text": [
      "(5, 5)\n",
      "(1, 5, 5, 1, 1)\n"
     ]
    }
   ],
   "source": [
    "arr = np.arange(5*5).reshape(5,5)\n",
    "print(arr.shape)\n",
    "  \n",
    "newaxes = (0, 3, -1)\n",
    "arr_5D = np.expand_dims(arr, axis=newaxes)\n",
    "print(arr_5D.shape)"
   ]
  },
  {
   "cell_type": "markdown",
   "id": "b71e1dc8",
   "metadata": {},
   "source": [
    "## hsatck() aray"
   ]
  },
  {
   "cell_type": "code",
   "execution_count": 59,
   "id": "8f2d9c97",
   "metadata": {},
   "outputs": [
    {
     "name": "stdout",
     "output_type": "stream",
     "text": [
      "1st Input array : \n",
      " [[ 1  2  3]\n",
      " [-1 -2 -3]]\n",
      "2nd Input array : \n",
      " [[ 4  5  6]\n",
      " [-4 -5 -6]]\n",
      "Output stacked array :\n",
      "  [[ 1  2  3  4  5  6]\n",
      " [-1 -2 -3 -4 -5 -6]]\n"
     ]
    }
   ],
   "source": [
    "in_arr1 = np.array([[ 1, 2, 3], [ -1, -2, -3]] )\n",
    "print (\"1st Input array : \\n\", in_arr1) \n",
    "  \n",
    "in_arr2 = np.array([[ 4, 5, 6], [ -4, -5, -6]] )\n",
    "print (\"2nd Input array : \\n\", in_arr2) \n",
    "  \n",
    "# Stacking the two arrays horizontally\n",
    "out_arr = np.hstack((in_arr1, in_arr2))\n",
    "print (\"Output stacked array :\\n \", out_arr)"
   ]
  },
  {
   "cell_type": "markdown",
   "id": "8cabf933",
   "metadata": {},
   "source": [
    "## Joining NumPy Array"
   ]
  },
  {
   "cell_type": "markdown",
   "id": "61557d87",
   "metadata": {},
   "source": [
    "NumPy provides various functions to combine arrays. In this article, we will discuss some of the major ones.\n",
    "\n",
    "numpy.concatenate\n",
    "numpy.stack\n",
    "numpy.block\n",
    "\n",
    "\n",
    "\n",
    "numpy.block()\n",
    "In this example, we assembled a block matrix( block_new ) from 4 separate 2-d arrays (block_1,block_2,block_3,block_4 )."
   ]
  },
  {
   "cell_type": "code",
   "execution_count": null,
   "id": "e68bc3d4",
   "metadata": {},
   "outputs": [],
   "source": []
  },
  {
   "cell_type": "code",
   "execution_count": null,
   "id": "34526656",
   "metadata": {},
   "outputs": [],
   "source": [
    "block_1 = np.array([[1, 1], [1, 1]])\n",
    "block_2 = np.array([[2, 2, 2], [2, 2, 2]])\n",
    "block_3 = np.array([[3, 3], [3, 3], [3, 3]])\n",
    "block_4 = np.array([[4, 4, 4], [4, 4, 4], [4, 4, 4]])\n",
    "  \n",
    "block_new = np.block([\n",
    "    [block_1, block_2],\n",
    "    [block_3, block_4]\n",
    "])\n",
    "  \n",
    "print(block_new)"
   ]
  },
  {
   "cell_type": "markdown",
   "id": "6cd13d7c",
   "metadata": {},
   "source": [
    "## Combining a one and a two-dimensional NumPy Array\n"
   ]
  },
  {
   "cell_type": "code",
   "execution_count": 61,
   "id": "eac5ae85",
   "metadata": {},
   "outputs": [
    {
     "name": "stdout",
     "output_type": "stream",
     "text": [
      "One dimensional array:\n",
      "[0 1 2 3 4]\n",
      "\n",
      "Two dimensional array:\n",
      "[[0 1 2 3 4]\n",
      " [5 6 7 8 9]]\n",
      "0:0\n",
      "1:1\n",
      "2:2\n",
      "3:3\n",
      "4:4\n",
      "0:5\n",
      "1:6\n",
      "2:7\n",
      "3:8\n",
      "4:9\n"
     ]
    }
   ],
   "source": [
    "num_1d = np.arange(5)\n",
    "print(\"One dimensional array:\")\n",
    "print(num_1d)\n",
    "  \n",
    "num_2d = np.arange(10).reshape(2,5)\n",
    "print(\"\\nTwo dimensional array:\")\n",
    "print(num_2d)\n",
    "  \n",
    "# Combine 1-D and 2-D arrays and display \n",
    "# their elements using numpy.nditer() \n",
    "for a, b in np.nditer([num_1d, num_2d]):\n",
    "    print(\"%d:%d\" % (a, b),)"
   ]
  },
  {
   "cell_type": "markdown",
   "id": "4f5b2cd9",
   "metadata": {},
   "source": [
    "## Numpy np.ma.concatenate() method"
   ]
  },
  {
   "cell_type": "code",
   "execution_count": null,
   "id": "c7e13b1f",
   "metadata": {},
   "outputs": [],
   "source": []
  },
  {
   "cell_type": "markdown",
   "id": "1bc0f1b8",
   "metadata": {},
   "source": [
    "## Numpy dstack() method"
   ]
  },
  {
   "cell_type": "markdown",
   "id": "4097277f",
   "metadata": {},
   "source": [
    "Numpy dstack() method\n",
    "With the help of numpy.dstack() method, we can get the combined array index by index and store like a stack by using numpy.dstack() method.\n",
    "\n",
    "Syntax : numpy.dstack((array1, array2))\n",
    "\n",
    "Return : Return combined array index by index."
   ]
  },
  {
   "cell_type": "code",
   "execution_count": null,
   "id": "f00c2210",
   "metadata": {},
   "outputs": [],
   "source": []
  },
  {
   "cell_type": "markdown",
   "id": "a90f28a4",
   "metadata": {},
   "source": [
    "## Find unique rows in a NumPy array\n",
    "How to find unique rows in a NumPy array. To find unique rows in a NumPy array we are using numpy.unique() function of NumPy library.\n",
    "\n",
    "Syntax of np.unique() in Python\n",
    "Syntax: numpy.unique()\n",
    "\n",
    "Parameter:\n",
    "\n",
    "ar: array\n",
    "return_index: Bool, if True return the indices of the input array\n",
    "return_inverse: Bool, if True return the indices of the input array\n",
    "return_counts: Bool, if True return the number of times each unique item appeared in the input array\n",
    "axis: int or none, defines the axis to operate on"
   ]
  },
  {
   "cell_type": "code",
   "execution_count": 62,
   "id": "010b94ae",
   "metadata": {},
   "outputs": [
    {
     "name": "stdout",
     "output_type": "stream",
     "text": [
      "Unique Rows:\n",
      "(array([11, 12, 13, 16]), array([0, 0, 1, 0, 2, 0, 1, 0, 3, 0, 1, 0, 0, 0, 1, 0], dtype=int64))\n"
     ]
    }
   ],
   "source": [
    "# Create a 2D numpy array\n",
    "arr2D = np.array([[11, 11, 12, 11],\n",
    "                     [13, 11, 12, 11],\n",
    "                     [16, 11, 12, 11],\n",
    "                     [11, 11, 12, 11]])\n",
    " \n",
    "uniqueRows = np.unique(arr2D, return_inverse=True)\n",
    "                        \n",
    " \n",
    "# print the output result\n",
    "print('Unique Rows:',\n",
    "      uniqueRows, sep = '\\n')"
   ]
  },
  {
   "cell_type": "code",
   "execution_count": 63,
   "id": "ae9a9093",
   "metadata": {},
   "outputs": [
    {
     "name": "stdout",
     "output_type": "stream",
     "text": [
      "Unique Rows:\n",
      "(array([11, 12, 13, 16]), array([0, 2, 4, 8], dtype=int64))\n"
     ]
    }
   ],
   "source": [
    "arr2D = np.array([[11, 11, 12, 11],\n",
    "                     [13, 11, 12, 11],\n",
    "                     [16, 11, 12, 11],\n",
    "                     [11, 11, 12, 11]])\n",
    " \n",
    "uniqueRows = np.unique(arr2D, return_index=True)\n",
    "                        \n",
    " \n",
    "# print the output result\n",
    "print('Unique Rows:',\n",
    "      uniqueRows, sep = '\\n')"
   ]
  },
  {
   "cell_type": "markdown",
   "id": "af02f92e",
   "metadata": {},
   "source": [
    "# Operations on NumPy Array"
   ]
  },
  {
   "cell_type": "code",
   "execution_count": null,
   "id": "98da61ed",
   "metadata": {},
   "outputs": [],
   "source": []
  },
  {
   "cell_type": "markdown",
   "id": "a3718e41",
   "metadata": {},
   "source": [
    "# Indexing NumPy Array"
   ]
  },
  {
   "cell_type": "markdown",
   "id": "b820cec0",
   "metadata": {},
   "source": [
    "### Basic Slicing and indexing"
   ]
  },
  {
   "cell_type": "code",
   "execution_count": null,
   "id": "4c5de609",
   "metadata": {},
   "outputs": [],
   "source": [
    " "
   ]
  },
  {
   "cell_type": "code",
   "execution_count": 65,
   "id": "8b46e224",
   "metadata": {},
   "outputs": [
    {
     "name": "stdout",
     "output_type": "stream",
     "text": [
      "[ 80 100]\n"
     ]
    }
   ],
   "source": [
    "#Boolean Indexing\n",
    "a = np.array([10, 40, 80, 50, 100])\n",
    "print(a[a>50])"
   ]
  },
  {
   "cell_type": "markdown",
   "id": "1927602f",
   "metadata": {},
   "source": [
    "# Accessing Data Along Multiple Dimensions Arrays in Python Numpy\n",
    "\n",
    "\n",
    "NumPy (Numerical Python) is a Python library that comprises of multidimensional arrays and numerous functions to perform various mathematical and logical operations on them. NumPy also consists of various functions to perform linear algebra operations and generate random numbers. NumPy is often used along with packages like SciPy and Matplotlib for technical computing.\n",
    "An n-dimensional (multidimensional) array has a fixed size and contains items of the same type. the contents of the multidimensional array can be accessed and modified by using indexing and slicing the array as desired. For accessing elements of an array we need to first import the library: \n",
    " \n",
    "\n",
    "import numpy as np\n",
    "We can use Integer Indexing to access elements of data. We can also perform Slicing to access sub-sequences of data.\n",
    "Ex"
   ]
  },
  {
   "cell_type": "code",
   "execution_count": 66,
   "id": "fd918b5b",
   "metadata": {},
   "outputs": [
    {
     "name": "stdout",
     "output_type": "stream",
     "text": [
      "[1 2 3 4 5]\n",
      "\n",
      "using positive index :1\n",
      "using positive index :5\n",
      "\n",
      "using negative index :1\n",
      "using negative index :5\n"
     ]
    }
   ],
   "source": [
    "# 1-dimensional array\n",
    "array1D = np.array([1, 2, 3, 4, 5])\n",
    " \n",
    "print(array1D)\n",
    " \n",
    "# to access elements using positive\n",
    "# index\n",
    "print(\"\\nusing positive index :\" +str(array1D[0]))\n",
    "print(\"using positive index :\" +str(array1D[4]))\n",
    " \n",
    "# negative indexing works in opposite\n",
    "# direction\n",
    "print(\"\\nusing negative index :\" +str(array1D[-5]))\n",
    "print(\"using negative index :\" +str(array1D[-1]))"
   ]
  },
  {
   "cell_type": "code",
   "execution_count": 67,
   "id": "1b2c1844",
   "metadata": {},
   "outputs": [
    {
     "name": "stdout",
     "output_type": "stream",
     "text": [
      "[[ 93  95]\n",
      " [ 84 100]\n",
      " [ 99  87]]\n",
      "shape :(3, 2)\n",
      "\n",
      "positive indexing :84\n",
      "negative indexing :84\n",
      "\n",
      "slicing using positive indices :[ 95 100  87]\n",
      "slicing using positive indices :[ 95 100  87]\n",
      "slicing using negative indices :[ 95 100  87]\n"
     ]
    }
   ],
   "source": [
    "# 2-dimensional array\n",
    "array2D = np.array([[93,  95],\n",
    "                    [84, 100],\n",
    "                    [99,  87]])\n",
    " \n",
    "print(array2D)\n",
    "print(\"shape :\" +str(array2D.shape))\n",
    " \n",
    "print(\"\\npositive indexing :\" +str(array2D[1, 0]))\n",
    "print(\"negative indexing :\" +str(array2D[-2, 0]))\n",
    " \n",
    "print(\"\\nslicing using positive indices :\" +str(array2D[0:3, 1]))\n",
    "print(\"slicing using positive indices :\" +str(array2D[:, 1]))\n",
    "print(\"slicing using negative indices :\" +str(array2D[:, -1]))"
   ]
  },
  {
   "cell_type": "code",
   "execution_count": 68,
   "id": "b517109c",
   "metadata": {},
   "outputs": [
    {
     "name": "stdout",
     "output_type": "stream",
     "text": [
      "[[[ 0  1  2]\n",
      "  [ 3  4  5]\n",
      "  [ 6  7  8]]\n",
      "\n",
      " [[ 9 10 11]\n",
      "  [12 13 14]\n",
      "  [15 16 17]]\n",
      "\n",
      " [[18 19 20]\n",
      "  [21 22 23]\n",
      "  [24 25 26]]]\n",
      "shape :(3, 3, 3)\n",
      "\n",
      "accessing element :3\n",
      "accessing elements of a row and a column of an array:[ 3 12 21]\n",
      "accessing sub part of an array :[[ 9 10 11]\n",
      " [12 13 14]\n",
      " [15 16 17]]\n"
     ]
    }
   ],
   "source": [
    "# 3-dimensional array\n",
    "array3D = np.array([[[ 0,  1,  2],\n",
    "                     [ 3,  4,  5],\n",
    "                     [ 6,  7,  8]],\n",
    "  \n",
    "                    [[ 9, 10, 11],\n",
    "                     [12, 13, 14],\n",
    "                     [15, 16, 17]],\n",
    " \n",
    "                    [[18, 19, 20],\n",
    "                     [21, 22, 23],\n",
    "                     [24, 25, 26]]])\n",
    " \n",
    "print(array3D)\n",
    "print(\"shape :\" +str(array3D.shape))\n",
    " \n",
    "print(\"\\naccessing element :\" +str(array3D[0, 1, 0]))\n",
    "print(\"accessing elements of a row and a column of an array:\"\n",
    "      +str(array3D[:, 1, 0]))\n",
    "print(\"accessing sub part of an array :\" +str(array3D[1]))"
   ]
  },
  {
   "cell_type": "markdown",
   "id": "d87da2d2",
   "metadata": {},
   "source": [
    "# Variations in different Sorting techniques in Python"
   ]
  },
  {
   "cell_type": "markdown",
   "id": "79458fa1",
   "metadata": {},
   "source": [
    "These are all different types for sorting techniques that behave very differently. Let’s study which technique works how and which one to use.\n",
    "\n",
    "Let ‘a’ be a numpy array\n",
    "\n",
    "a.sort()\n",
    "(i) Sorts the array in-place & returns None\n",
    "(ii) Return type is None\n",
    "(iii) Occupies less space. No copy created as it directly sorts the original array\n",
    "(iv) Faster than sorted(a)"
   ]
  },
  {
   "cell_type": "code",
   "execution_count": 69,
   "id": "cfed6543",
   "metadata": {},
   "outputs": [
    {
     "name": "stdout",
     "output_type": "stream",
     "text": [
      "Original array:\n",
      " [9 3 1 7 4 3 6]\n",
      "Return type: None\n",
      "Original array sorted-> [1 3 3 4 6 7 9]\n"
     ]
    }
   ],
   "source": [
    "# Numpy array created\n",
    "a = np.array([9, 3, 1, 7, 4, 3, 6])\n",
    "  \n",
    "# unsorted array print\n",
    "print('Original array:\\n', a)\n",
    "  \n",
    "# Return type is None\n",
    "print('Return type:', a.sort())\n",
    "  \n",
    "# Sorted array output\n",
    "print('Original array sorted->', a)"
   ]
  },
  {
   "cell_type": "markdown",
   "id": "8a8b779c",
   "metadata": {},
   "source": [
    "sorted(a)\n",
    "(i) Creates a new list from the old & returns the new one, sorted\n",
    "(ii) Return type is a list\n",
    "(iii) Occupies more space as copy of original array is created and then sorting is done\n",
    "(iv) Slower than a.sort()"
   ]
  },
  {
   "cell_type": "code",
   "execution_count": 70,
   "id": "70c4890f",
   "metadata": {},
   "outputs": [
    {
     "name": "stdout",
     "output_type": "stream",
     "text": [
      "Original array:\n",
      " [9 3 1 7 4 3 6]\n",
      "New array sorted-> [1, 3, 3, 4, 6, 7, 9]\n",
      "Original array-> [9 3 1 7 4 3 6]\n"
     ]
    }
   ],
   "source": [
    "# Numpy array created\n",
    "a = np.array([9, 3, 1, 7, 4, 3, 6])\n",
    "  \n",
    "# unsorted array print\n",
    "print('Original array:\\n', a)\n",
    "b = sorted(a)\n",
    "  \n",
    "# sorted list returned to b, b type is\n",
    "# <class 'list'> \n",
    "print('New array sorted->', b)\n",
    "  \n",
    "# original array no change\n",
    "print('Original array->', a)"
   ]
  },
  {
   "cell_type": "markdown",
   "id": "28eec634",
   "metadata": {},
   "source": [
    "np.argsort(a)\n",
    "(i) Returns the indices that would sort an array\n",
    "(ii) Return type is numpy array\n",
    "(iii) Occupies space as a new array of sorted indices is returned"
   ]
  },
  {
   "cell_type": "code",
   "execution_count": 71,
   "id": "b5cd2145",
   "metadata": {},
   "outputs": [
    {
     "name": "stdout",
     "output_type": "stream",
     "text": [
      "Original array:\n",
      " [9 3 1 7 4 3 6]\n",
      "Sorted indices of original array-> [2 1 5 4 6 3 0]\n",
      "Sorted array-> [1 3 3 4 6 7 9]\n"
     ]
    }
   ],
   "source": [
    "a = np.array([9, 3, 1, 7, 4, 3, 6])\n",
    "  \n",
    "# unsorted array print\n",
    "print('Original array:\\n', a)\n",
    "  \n",
    "# Sort array indices\n",
    "b = np.argsort(a)\n",
    "print('Sorted indices of original array->', b)\n",
    "  \n",
    "# To get sorted array using sorted indices\n",
    "# c is temp array created of same len as of b\n",
    "c = np.zeros(len(b), dtype = int)\n",
    "for i in range(0, len(b)):\n",
    "    c[i]= a[b[i]]\n",
    "print('Sorted array->', c)"
   ]
  },
  {
   "cell_type": "markdown",
   "id": "d1b407b0",
   "metadata": {},
   "source": [
    "np.lexsort((b, a))\n",
    "(i) Perform an indirect sort using a sequence of keys\n",
    "(ii) Sort by a, then by b\n",
    "(iii) Return type ndarray of ints Array of indices that sort the keys along the specified axis\n",
    "(iv) Occupies space as a new array of sorted indices pair wise is returned."
   ]
  },
  {
   "cell_type": "code",
   "execution_count": 75,
   "id": "a8d1043e",
   "metadata": {},
   "outputs": [
    {
     "name": "stdout",
     "output_type": "stream",
     "text": [
      "column a, column b\n",
      "9   4\n",
      "3   6\n",
      "1   9\n",
      "3   2\n",
      "4   1\n",
      "3   8\n",
      "6   7\n",
      "Sorted indices-> [2 3 1 5 4 6 0]\n"
     ]
    }
   ],
   "source": [
    "# Numpy array created\n",
    "a = np.array([9, 3, 1, 3, 4, 3, 6]) # First column\n",
    "b = np.array([4, 6, 9, 2, 1, 8, 7]) # Second column\n",
    "print('column a, column b')\n",
    "for (i, j) in zip(a, b):\n",
    "    print(i, ' ', j)\n",
    "  \n",
    "ind = np.lexsort((b, a)) # Sort by a then by b\n",
    "print('Sorted indices->', ind)"
   ]
  },
  {
   "cell_type": "markdown",
   "id": "a7580279",
   "metadata": {},
   "source": [
    "## numpy.sort_complex() in Python\n",
    "numpy.sort_complex() function is used to sort a complex array.It sorts the array by using the real part first, then the imaginary part.\n",
    "\n",
    "Syntax : numpy.sort_complex(arr)\n",
    "\n",
    "Parameters :\n",
    "arr : [array_like] Input array.\n",
    "\n",
    "Return : [complex ndarray] A sorted complex array."
   ]
  },
  {
   "cell_type": "code",
   "execution_count": 74,
   "id": "c275ecfc",
   "metadata": {},
   "outputs": [
    {
     "name": "stdout",
     "output_type": "stream",
     "text": [
      "Input array :  [2, 8, 7, 5, 9]\n",
      "Output sorted array :  [2.+0.j 5.+0.j 7.+0.j 8.+0.j 9.+0.j]\n"
     ]
    }
   ],
   "source": [
    "# input array\n",
    "in_arr = [2, 8, 7, 5, 9]\n",
    "print (\"Input array : \", in_arr) \n",
    "    \n",
    "out_arr = np.sort_complex(in_arr) \n",
    "print (\"Output sorted array : \", out_arr)"
   ]
  },
  {
   "cell_type": "markdown",
   "id": "efab11a0",
   "metadata": {},
   "source": [
    "# Create your own universal function in NumPy"
   ]
  },
  {
   "cell_type": "raw",
   "id": "e24e9263",
   "metadata": {},
   "source": [
    "Universal functions in Numpy are simple mathematical functions. It is just a term that we gave to mathematical functions in the Numpy library. Numpy provides various universal functions that cover a wide variety of operations. However, we can create our own universal function in Python. To create your own universal function in NumPy, we have to apply some steps given below:\n",
    "\n",
    "Define the function as usually using the def keyword.\n",
    "Add this function to numpy library using frompyfunc() method.\n",
    "Use this function using numpy.\n",
    "frompyfunc() method\n",
    "This function allows to create an arbitrary Python function as Numpy ufunc (universal function)."
   ]
  },
  {
   "cell_type": "code",
   "execution_count": 76,
   "id": "fac780ad",
   "metadata": {},
   "outputs": [
    {
     "name": "stdout",
     "output_type": "stream",
     "text": [
      "arr     : 1 2 3 4 5 6 7 8 9 10\n",
      "mod_arr : 1 0 1 0 1 0 1 0 1 0\n"
     ]
    }
   ],
   "source": [
    "# creating own function\n",
    "def fxn(val):\n",
    "  return (val % 2)\n",
    " \n",
    "# adding into numpy\n",
    "mod_2 = np.frompyfunc(fxn, 1, 1)\n",
    " \n",
    "# creating numpy array\n",
    "arr = np.arange(1, 11)\n",
    "print(\"arr     :\", *arr)\n",
    " \n",
    "# using function over numpy array\n",
    "mod_arr = mod_2(arr)\n",
    "print(\"mod_arr :\", *mod_arr)"
   ]
  },
  {
   "cell_type": "markdown",
   "id": "9fa8e200",
   "metadata": {},
   "source": [
    "## Some of the basic universal functions in Numpy are-\n",
    " \n",
    "\n",
    "Trigonometric functions:"
   ]
  },
  {
   "cell_type": "code",
   "execution_count": 77,
   "id": "e286f8d6",
   "metadata": {},
   "outputs": [
    {
     "name": "stdout",
     "output_type": "stream",
     "text": [
      "Sine of angles in the array:\n",
      "[0.00000000e+00 5.00000000e-01 7.07106781e-01 8.66025404e-01\n",
      " 1.00000000e+00 1.22464680e-16]\n",
      "Inverse Sine of sine values:\n",
      "[0.0000000e+00 3.0000000e+01 4.5000000e+01 6.0000000e+01 9.0000000e+01\n",
      " 7.0167093e-15]\n",
      "Sine hyperbolic of angles in the array:\n",
      "[ 0.          0.54785347  0.86867096  1.24936705  2.3012989  11.54873936]\n",
      "Inverse Sine hyperbolic:\n",
      "[ 0.          0.52085606  0.76347126  0.94878485  0.74483916 -0.85086591]\n",
      "hypotenuse of right triangle is:\n",
      "5.0\n"
     ]
    }
   ],
   "source": [
    "# create an array of angles\n",
    "angles = np.array([0, 30, 45, 60, 90, 180]) \n",
    "  \n",
    "# conversion of degree into radians\n",
    "# using deg2rad function\n",
    "radians = np.deg2rad(angles)\n",
    "  \n",
    "# sine of angles\n",
    "print('Sine of angles in the array:')\n",
    "sine_value = np.sin(radians)\n",
    "print(np.sin(radians))\n",
    "  \n",
    "# inverse sine of sine values\n",
    "print('Inverse Sine of sine values:')\n",
    "print(np.rad2deg(np.arcsin(sine_value)))\n",
    "  \n",
    "# hyperbolic sine of angles\n",
    "print('Sine hyperbolic of angles in the array:')\n",
    "sineh_value = np.sinh(radians)\n",
    "print(np.sinh(radians))\n",
    "  \n",
    "# inverse sine hyperbolic \n",
    "print('Inverse Sine hyperbolic:')\n",
    "print(np.sin(sineh_value)) \n",
    "  \n",
    "# hypot function demonstration\n",
    "base = 4\n",
    "height = 3\n",
    "print('hypotenuse of right triangle is:')\n",
    "print(np.hypot(base, height))"
   ]
  },
  {
   "cell_type": "markdown",
   "id": "f4f037ea",
   "metadata": {},
   "source": [
    "Statistical functions:"
   ]
  },
  {
   "cell_type": "code",
   "execution_count": 78,
   "id": "4f07b497",
   "metadata": {},
   "outputs": [
    {
     "name": "stdout",
     "output_type": "stream",
     "text": [
      "Minimum and maximum weight of the students: \n",
      "45.0 73.25\n",
      "Range of the weight of the students: \n",
      "28.25\n",
      "Weight below which 70 % student fall: \n",
      "55.317\n",
      "Mean weight of the students: \n",
      "54.3225\n",
      "Median weight of the students: \n",
      "51.6\n",
      "Standard deviation of weight of the students: \n",
      "8.052773978574091\n",
      "Variance of weight of the students: \n",
      "64.84716875\n",
      "Average weight of the students: \n",
      "54.3225\n"
     ]
    }
   ],
   "source": [
    "# construct a weight array\n",
    "weight = np.array([50.7, 52.5, 50, 58, 55.63, 73.25, 49.5, 45])\n",
    "  \n",
    "# minimum and maximum \n",
    "print('Minimum and maximum weight of the students: ')\n",
    "print(np.amin(weight), np.amax(weight))\n",
    "  \n",
    "# range of weight i.e. max weight-min weight\n",
    "print('Range of the weight of the students: ')\n",
    "print(np.ptp(weight))\n",
    "  \n",
    "# percentile\n",
    "print('Weight below which 70 % student fall: ')\n",
    "print(np.percentile(weight, 70))\n",
    "   \n",
    "# mean \n",
    "print('Mean weight of the students: ')\n",
    "print(np.mean(weight))\n",
    "  \n",
    "# median \n",
    "print('Median weight of the students: ')\n",
    "print(np.median(weight))\n",
    "  \n",
    "# standard deviation \n",
    "print('Standard deviation of weight of the students: ')\n",
    "print(np.std(weight))\n",
    "  \n",
    "# variance \n",
    "print('Variance of weight of the students: ')\n",
    "print(np.var(weight))\n",
    "  \n",
    "# average \n",
    "print('Average weight of the students: ')\n",
    "print(np.average(weight))"
   ]
  },
  {
   "cell_type": "markdown",
   "id": "115802e7",
   "metadata": {},
   "source": [
    "Bit-twiddling functions:\n",
    "These functions accept integer values as input arguments and perform bitwise operations on binary representations of those integers."
   ]
  },
  {
   "cell_type": "code",
   "execution_count": 79,
   "id": "d7f508dd",
   "metadata": {},
   "outputs": [
    {
     "name": "stdout",
     "output_type": "stream",
     "text": [
      "bitwise_and of two arrays: \n",
      "[ 0  2  4  6  8 16 32]\n",
      "bitwise_or of two arrays: \n",
      "[ 1  3  5  7  9 17 33]\n",
      "bitwise_xor of two arrays: \n",
      "[1 1 1 1 1 1 1]\n",
      "inversion of even no. array: \n",
      "[ -1  -3  -5  -7  -9 -17 -33]\n",
      "left_shift of even no. array: \n",
      "[ 0  4  8 12 16 32 64]\n",
      "right_shift of even no. array: \n",
      "[ 0  1  2  3  4  8 16]\n"
     ]
    }
   ],
   "source": [
    "# construct an array of even and odd numbers\n",
    "even = np.array([0, 2, 4, 6, 8, 16, 32])\n",
    "odd = np.array([1, 3, 5, 7, 9, 17, 33])\n",
    "  \n",
    "# bitwise_and\n",
    "print('bitwise_and of two arrays: ')\n",
    "print(np.bitwise_and(even, odd))\n",
    "  \n",
    "# bitwise_or\n",
    "print('bitwise_or of two arrays: ')\n",
    "print(np.bitwise_or(even, odd))\n",
    "  \n",
    "# bitwise_xor\n",
    "print('bitwise_xor of two arrays: ')\n",
    "print(np.bitwise_xor(even, odd))\n",
    "   \n",
    "# invert or not\n",
    "print('inversion of even no. array: ')\n",
    "print(np.invert(even))\n",
    "  \n",
    "# left_shift \n",
    "print('left_shift of even no. array: ')\n",
    "print(np.left_shift(even, 1))\n",
    "  \n",
    "# right_shift \n",
    "print('right_shift of even no. array: ')\n",
    "print(np.right_shift(even, 1))"
   ]
  },
  {
   "cell_type": "code",
   "execution_count": null,
   "id": "1dd1ce89",
   "metadata": {},
   "outputs": [],
   "source": []
  }
 ],
 "metadata": {
  "kernelspec": {
   "display_name": "Python 3",
   "language": "python",
   "name": "python3"
  },
  "language_info": {
   "codemirror_mode": {
    "name": "ipython",
    "version": 3
   },
   "file_extension": ".py",
   "mimetype": "text/x-python",
   "name": "python",
   "nbconvert_exporter": "python",
   "pygments_lexer": "ipython3",
   "version": "3.8.8"
  }
 },
 "nbformat": 4,
 "nbformat_minor": 5
}
